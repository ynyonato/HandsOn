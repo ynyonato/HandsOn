{
  "nbformat": 4,
  "nbformat_minor": 0,
  "metadata": {
    "colab": {
      "provenance": [],
      "authorship_tag": "ABX9TyPcLUIOZ+Kr/s8EtOw11+AW",
      "include_colab_link": true
    },
    "kernelspec": {
      "name": "python3",
      "display_name": "Python 3"
    },
    "language_info": {
      "name": "python"
    }
  },
  "cells": [
    {
      "cell_type": "markdown",
      "metadata": {
        "id": "view-in-github",
        "colab_type": "text"
      },
      "source": [
        "<a href=\"https://colab.research.google.com/github/ynyonato/HandsOn/blob/updates/ia_me_app.ipynb\" target=\"_parent\"><img src=\"https://colab.research.google.com/assets/colab-badge.svg\" alt=\"Open In Colab\"/></a>"
      ]
    },
    {
      "cell_type": "code",
      "source": [
        "# Import des librairies\n",
        "import pandas as pd\n",
        "import numpy as np\n",
        "import matplotlib.pyplot as plt\n",
        "import seaborn as sns\n",
        "from wordcloud import WordCloud\n",
        "import re\n",
        "import nltk\n",
        "from nltk.corpus import stopwords\n",
        "from sklearn.feature_extraction.text import TfidfVectorizer\n",
        "from textblob import TextBlob"
      ],
      "metadata": {
        "id": "25EEnFwEV6k6"
      },
      "execution_count": null,
      "outputs": []
    },
    {
      "cell_type": "code",
      "source": [
        "# Télécharger stopwords et autres ressources NLTK si besoin\n",
        "nltk.download('stopwords')\n",
        "nltk.download('punkt')"
      ],
      "metadata": {
        "id": "yoiffI47V9UH"
      },
      "execution_count": null,
      "outputs": []
    },
    {
      "cell_type": "code",
      "source": [
        "# Chargement des données (ici on suppose que le fichier csv est uploadé dans Colab)\n",
        "df = pd.read_csv('ia-me/suivi_activites.csv', sep=';', encoding='latin-1', quotechar='\"')\n",
        "print(df.columns)\n",
        "print(df.head())"
      ],
      "metadata": {
        "id": "oGIlz8KNWAGz"
      },
      "execution_count": null,
      "outputs": []
    },
    {
      "cell_type": "code",
      "source": [
        "# Nettoyage basique du texte (feedback)\n",
        "def clean_text(text):\n",
        "    text = text.lower()\n",
        "    text = re.sub(r\"[^a-zàâçéèêëîïôûùüÿñæœ\\s]\", '', text)  # enlever ponctuations sauf lettres accentuées\n",
        "    text = re.sub(r'\\s+', ' ', text).strip()\n",
        "    return text\n",
        "\n",
        "df['Feedback_clean'] = df['Feedback'].fillna('').apply(clean_text)\n",
        "# print(df['Feedback_clean'].head())"
      ],
      "metadata": {
        "id": "T2kKf7I7WEc1"
      },
      "execution_count": null,
      "outputs": []
    },
    {
      "cell_type": "code",
      "source": [
        "# Suppression des stopwords\n",
        "stop_words = set(stopwords.words('french'))\n",
        "def remove_stopwords(text):\n",
        "    return ' '.join([word for word in text.split() if word not in stop_words])\n",
        "\n",
        "df['Feedback_clean'] = df['Feedback_clean'].apply(remove_stopwords)\n",
        "# print(df['Feedback_clean'].head())"
      ],
      "metadata": {
        "id": "pIRmFCETWF16"
      },
      "execution_count": null,
      "outputs": []
    },
    {
      "cell_type": "code",
      "source": [
        "# Check if there are any non-empty strings after cleaning and stopword removal\n",
        "if df['Feedback_clean'].str.strip().eq('').all():\n",
        "    print(\"Erreur: Après nettoyage et suppression des mots vides, la colonne 'Feedback_clean' est vide. Impossible de créer un vocabulaire TF-IDF.\")\n",
        "    # Option 1: Print some raw feedback to understand why it's empty\n",
        "    print(\"\\nExemples de feedback originaux :\")\n",
        "    print(df['Feedback'].head())\n",
        "    # Option 2: You might need to revisit your cleaning steps or data source\n",
        "else:\n",
        "    vectorizer = TfidfVectorizer(max_features=20)\n",
        "    X = vectorizer.fit_transform(df['Feedback_clean'])\n",
        "    tfidf_df = pd.DataFrame(X.toarray(), columns=vectorizer.get_feature_names_out())\n",
        "\n",
        "    # Somme des TF-IDF par mot pour voir les plus importants\n",
        "    tfidf_sum = tfidf_df.sum().sort_values(ascending=False)\n",
        "    print(\"Top mots-clés TF-IDF :\")\n",
        "    print(tfidf_sum)"
      ],
      "metadata": {
        "id": "aXAFZrcUZlOG"
      },
      "execution_count": null,
      "outputs": []
    },
    {
      "cell_type": "code",
      "source": [
        "X = vectorizer.fit_transform(df['Feedback_clean'])\n",
        "tfidf_df = pd.DataFrame(X.toarray(), columns=vectorizer.get_feature_names_out())"
      ],
      "metadata": {
        "id": "l7c4Nxu2ZmfD"
      },
      "execution_count": null,
      "outputs": []
    },
    {
      "cell_type": "code",
      "source": [
        "# Somme des TF-IDF par mot pour voir les plus importants\n",
        "tfidf_sum = tfidf_df.sum().sort_values(ascending=False)\n",
        "print(\"Top mots-clés TF-IDF :\")\n",
        "print(tfidf_sum)"
      ],
      "metadata": {
        "id": "HjrOp28zWMEP"
      },
      "execution_count": null,
      "outputs": []
    },
    {
      "cell_type": "code",
      "source": [
        "# Analyse de sentiment avec TextBlob (en français)\n",
        "# On utilise TextBlob directement ici, qui marche mieux en anglais, mais ça donnera un aperçu\n",
        "# Pour un vrai traitement en français, on pourrait utiliser d’autres libs (ex: HuggingFace)\n",
        "def sentiment_polarity(text):\n",
        "    return TextBlob(text).sentiment.polarity\n",
        "\n",
        "df['Sentiment'] = df['Feedback_clean'].apply(sentiment_polarity)"
      ],
      "metadata": {
        "id": "nkPB6HVNWSis"
      },
      "execution_count": null,
      "outputs": []
    },
    {
      "cell_type": "code",
      "source": [
        "# Catégorisation simple du sentiment\n",
        "def categorize_sentiment(score):\n",
        "    if score > 0.1:\n",
        "        return 'Positif'\n",
        "    elif score < -0.1:\n",
        "        return 'Négatif'\n",
        "    else:\n",
        "        return 'Neutre'\n",
        "\n",
        "df['Sentiment_cat'] = df['Sentiment'].apply(categorize_sentiment)"
      ],
      "metadata": {
        "id": "JW97AF1kWUFr"
      },
      "execution_count": null,
      "outputs": []
    },
    {
      "cell_type": "code",
      "source": [
        "# Affichage des counts sentiment\n",
        "print(\"\\nRépartition des sentiments :\")\n",
        "print(df['Sentiment_cat'].value_counts())"
      ],
      "metadata": {
        "id": "0r-saN1yWX8X"
      },
      "execution_count": null,
      "outputs": []
    },
    {
      "cell_type": "code",
      "source": [
        "# Nuage de mots pour feedback global\n",
        "all_text = ' '.join(df['Feedback_clean'])\n",
        "wordcloud = WordCloud(width=800, height=400, background_color='white').generate(all_text)\n",
        "\n",
        "plt.figure(figsize=(12,6))\n",
        "plt.imshow(wordcloud, interpolation='bilinear')\n",
        "plt.axis('off')\n",
        "plt.title(\"Nuage de mots - Feedback\")\n",
        "plt.show()"
      ],
      "metadata": {
        "id": "qgmNExCFWcSy"
      },
      "execution_count": null,
      "outputs": []
    },
    {
      "cell_type": "code",
      "source": [
        "# Graphique des sentiments par type d'activité\n",
        "plt.figure(figsize=(10,6))\n",
        "sns.countplot(data=df, x='Type_Activite', hue='Sentiment_cat')\n",
        "plt.title(\"Sentiments par Type d'Activité\")\n",
        "plt.xticks(rotation=45)\n",
        "plt.show()"
      ],
      "metadata": {
        "id": "NH0nd_olWgMO"
      },
      "execution_count": null,
      "outputs": []
    },
    {
      "cell_type": "code",
      "source": [
        "# Moyenne de sentiment par localisation\n",
        "sentiment_localisation = df.groupby('Localisation')['Sentiment'].mean().sort_values()\n",
        "\n",
        "plt.figure(figsize=(8,5))\n",
        "sentiment_localisation.plot(kind='bar', color='skyblue')\n",
        "plt.title(\"Moyenne du sentiment par localisation\")\n",
        "plt.ylabel(\"Score moyen de sentiment\")\n",
        "plt.show()"
      ],
      "metadata": {
        "id": "_LS7bhpIWjDU"
      },
      "execution_count": null,
      "outputs": []
    },
    {
      "cell_type": "code",
      "source": [
        "# Croisement nombre participants vs sentiment (boxplot)\n",
        "plt.figure(figsize=(8,5))\n",
        "sns.boxplot(data=df, x='Sentiment_cat', y='Nombre_Participants')\n",
        "plt.title(\"Nombre de participants selon sentiment\")\n",
        "plt.show()"
      ],
      "metadata": {
        "id": "FWBOvNf3Wl3W"
      },
      "execution_count": null,
      "outputs": []
    }
  ]
}